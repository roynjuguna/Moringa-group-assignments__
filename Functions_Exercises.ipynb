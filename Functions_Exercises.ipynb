{
 "cells": [
  {
   "cell_type": "markdown",
   "metadata": {},
   "source": [
    "# Functions Exercises\n",
    "\n",
    "Functions Exercises"
   ]
  },
  {
   "cell_type": "markdown",
   "metadata": {},
   "source": [
    "1. Write a simple function in Python that takes two numbers and returns their sum."
   ]
  },
  {
   "cell_type": "code",
   "execution_count": 129,
   "metadata": {},
   "outputs": [
    {
     "data": {
      "text/plain": [
       "10"
      ]
     },
     "execution_count": 129,
     "metadata": {},
     "output_type": "execute_result"
    }
   ],
   "source": [
    "def sum(num1, num2):\n",
    "    value = num1 + num2\n",
    "    return value\n",
    "\n",
    "sum(4,6)"
   ]
  },
  {
   "cell_type": "markdown",
   "metadata": {},
   "source": [
    "2. What are the differences between positional and keyword arguments in a function?\n",
    "- Positional arguments must be included in the correct order. Keyword arguments are included with a keyword and equals sign."
   ]
  },
  {
   "cell_type": "markdown",
   "metadata": {},
   "source": [
    "3. What does a return statement do in a function? Can a function return multiple values? Provide an example."
   ]
  },
  {
   "cell_type": "markdown",
   "metadata": {},
   "source": [
    "- A return statement ends the execution of a function, and returns control to the calling function.\n",
    "- Yes, a function can return multiple values in Python. When a function returns multiple values, they are typically returned as a tuple. You can unpack these values into separate variables if needed."
   ]
  },
  {
   "cell_type": "code",
   "execution_count": 130,
   "metadata": {},
   "outputs": [
    {
     "name": "stdout",
     "output_type": "stream",
     "text": [
      "The value of operations on 2 and 2 are: \n",
      " Sum: 4 \n",
      " Multiplication: 4 \n",
      " Division: 1.0\n"
     ]
    }
   ],
   "source": [
    "first_number = 2\n",
    "second_number = 2\n",
    "\n",
    "def calculate(num1, num2):\n",
    "    sum = num1 + num2\n",
    "    multiplication = num1 * num2\n",
    "    division = num1 / num2\n",
    "    return sum, multiplication, division\n",
    "\n",
    "sum, multiplication, division= calculate(first_number,second_number)\n",
    "print(f'The value of operations on {first_number} and {second_number} are: \\n Sum: {sum} \\n Multiplication: {multiplication} \\n Division: {division}')"
   ]
  },
  {
   "cell_type": "markdown",
   "metadata": {},
   "source": [
    "4. What is the scope of a variable, and how does it affect variables inside and outside a function?"
   ]
  },
  {
   "cell_type": "markdown",
   "metadata": {},
   "source": [
    "The scope of a variable refers to the part of a program where that variable is accessible. In Python, variables have different scopes depending on where they are defined, and this affects whether a variable can be accessed inside or outside a function."
   ]
  },
  {
   "cell_type": "markdown",
   "metadata": {},
   "source": [
    "5. Write a function that modifies a global variable. What are the potential pitfalls?"
   ]
  },
  {
   "cell_type": "markdown",
   "metadata": {},
   "source": [
    "While global variables can be useful in certain scenarios, they can also make code harder to maintain, understand, and debug."
   ]
  },
  {
   "cell_type": "code",
   "execution_count": 135,
   "metadata": {},
   "outputs": [
    {
     "name": "stdout",
     "output_type": "stream",
     "text": [
      "100\n",
      "100\n"
     ]
    }
   ],
   "source": [
    "x = 50\n",
    "\n",
    "def function():\n",
    "    global x\n",
    "    x = 100\n",
    "    print(x)\n",
    "\n",
    "function()\n",
    "print(x)"
   ]
  },
  {
   "cell_type": "markdown",
   "metadata": {},
   "source": [
    "6. What is a lambda function in Python, and how is it different from a regular function?"
   ]
  },
  {
   "cell_type": "markdown",
   "metadata": {},
   "source": [
    "A lambda function in Python is a small, anonymous function defined using the lambda keyword. It's a compact way to write simple functions in a single line. Lambda functions can have any number of arguments but only one expression, which is evaluated and returned.\n",
    "A regular function is defined using the def keyword and can contain multiple expressions and statements, including loops, conditions, and multiple return statements."
   ]
  },
  {
   "cell_type": "markdown",
   "metadata": {},
   "source": [
    "7. Write a lambda function that squares a number."
   ]
  },
  {
   "cell_type": "code",
   "execution_count": 136,
   "metadata": {},
   "outputs": [
    {
     "name": "stdout",
     "output_type": "stream",
     "text": [
      "[1, 4, 9, 16]\n"
     ]
    }
   ],
   "source": [
    "numbers = [1, 2, 3, 4]\n",
    "squared = list(map(lambda x: x**2, numbers))\n",
    "print(squared)  # Output: [1, 4, 9, 16]\n"
   ]
  },
  {
   "cell_type": "markdown",
   "metadata": {},
   "source": [
    "8. What is a higher-order function? Can you give an example using map or filter?\n",
    "- Higher-order functions operate on other functions, either by using them as arguments or by returning them."
   ]
  },
  {
   "cell_type": "code",
   "execution_count": 139,
   "metadata": {},
   "outputs": [
    {
     "data": {
      "text/plain": [
       "[1, 4, 9, 16, 25, 36, 49]"
      ]
     },
     "execution_count": 139,
     "metadata": {},
     "output_type": "execute_result"
    }
   ],
   "source": [
    "# Map\n",
    "numbers = [1,2,3,4,5,6,7]\n",
    "\n",
    "squared_numbers = list(map(lambda x: x*x, numbers))\n",
    "squared_numbers"
   ]
  },
  {
   "cell_type": "code",
   "execution_count": 140,
   "metadata": {},
   "outputs": [
    {
     "data": {
      "text/plain": [
       "[2, 4, 6]"
      ]
     },
     "execution_count": 140,
     "metadata": {},
     "output_type": "execute_result"
    }
   ],
   "source": [
    "# Filter\n",
    "numbers = [1,2,3,4,5,6,7]\n",
    "\n",
    "even_numbers = list(filter(lambda number:number % 2 == 0, numbers))\n",
    "\n",
    "even_numbers"
   ]
  },
  {
   "cell_type": "code",
   "execution_count": 141,
   "metadata": {},
   "outputs": [
    {
     "data": {
      "text/plain": [
       "[1, 2, 3, 4, 5, 6, 7]"
      ]
     },
     "execution_count": 141,
     "metadata": {},
     "output_type": "execute_result"
    }
   ],
   "source": [
    "# Sort\n",
    "numbers = [5,4,1,7,6,3,2]\n",
    "\n",
    "sorted_numbers = sorted(numbers, key=lambda x:x, reverse= False)\n",
    "\n",
    "sorted_numbers"
   ]
  },
  {
   "cell_type": "markdown",
   "metadata": {},
   "source": [
    "9. Write a function that takes a list of numbers as input and returns the largest number in the list."
   ]
  },
  {
   "cell_type": "code",
   "execution_count": 142,
   "metadata": {},
   "outputs": [
    {
     "data": {
      "text/plain": [
       "7"
      ]
     },
     "execution_count": 142,
     "metadata": {},
     "output_type": "execute_result"
    }
   ],
   "source": [
    "numbers = [5,4,1,7,6,3,2]\n",
    "\n",
    "def largest_number(numbers):\n",
    "    largest = max(numbers)\n",
    "    return largest\n",
    "\n",
    "largest_number(numbers)"
   ]
  },
  {
   "cell_type": "markdown",
   "metadata": {},
   "source": [
    "10. Write a function that takes a list as input and returns the list in reverse order."
   ]
  },
  {
   "cell_type": "code",
   "execution_count": 143,
   "metadata": {},
   "outputs": [
    {
     "data": {
      "text/plain": [
       "[7, 6, 5, 4, 3, 2, 1]"
      ]
     },
     "execution_count": 143,
     "metadata": {},
     "output_type": "execute_result"
    }
   ],
   "source": [
    "numbers = [5,4,1,7,6,3,2]\n",
    "\n",
    "def reverse(numbers):\n",
    "    reversed = sorted(numbers, key=lambda numbers:numbers, reverse= True)\n",
    "    return reversed\n",
    "\n",
    "reverse(numbers)"
   ]
  },
  {
   "cell_type": "code",
   "execution_count": 144,
   "metadata": {},
   "outputs": [
    {
     "data": {
      "text/plain": [
       "[7, 6, 5, 4, 3, 2, 1]"
      ]
     },
     "execution_count": 144,
     "metadata": {},
     "output_type": "execute_result"
    }
   ],
   "source": [
    "numbers = [5,4,1,7,6,3,2]\n",
    "reversed = sorted(numbers, key=lambda numbers:numbers, reverse= True)\n",
    "reversed"
   ]
  },
  {
   "cell_type": "markdown",
   "metadata": {},
   "source": [
    "11. Write a function that converts temperatures from Celsius to Fahrenheit."
   ]
  },
  {
   "cell_type": "code",
   "execution_count": 145,
   "metadata": {},
   "outputs": [
    {
     "data": {
      "text/plain": [
       "194.0"
      ]
     },
     "execution_count": 145,
     "metadata": {},
     "output_type": "execute_result"
    }
   ],
   "source": [
    "# °F = (9/5) °C+32\n",
    "temp_celcius = 90\n",
    "\n",
    "temp_farenheit = lambda x:(9/5)*temp_celcius+32\n",
    "temp_farenheit(temp_celcius)"
   ]
  },
  {
   "cell_type": "markdown",
   "metadata": {},
   "source": [
    "12. Write a function that takes a sentence as input and returns a dictionary with the count of each word in the sentence."
   ]
  },
  {
   "cell_type": "code",
   "execution_count": 146,
   "metadata": {},
   "outputs": [
    {
     "data": {
      "text/plain": [
       "{'This': 0, 'is': 1, 'a': 2, 'good': 3, 'language': 4}"
      ]
     },
     "execution_count": 146,
     "metadata": {},
     "output_type": "execute_result"
    }
   ],
   "source": [
    "sentence = 'This is a good language'\n",
    "keys = sentence.split()\n",
    "my_dictionary = {}\n",
    "\n",
    "values = list(map(lambda x: keys.index(x), keys))\n",
    "\n",
    "def dictionary_function(my_dictionary, keys, values):\n",
    "    for keys, values in zip(keys, values):\n",
    "        my_dictionary[keys] = values\n",
    "\n",
    "dictionary_function(my_dictionary, keys, values )\n",
    "my_dictionary\n"
   ]
  },
  {
   "cell_type": "markdown",
   "metadata": {},
   "source": [
    "13. Write a function that takes a list of numbers and returns a new list containing only the even numbers."
   ]
  },
  {
   "cell_type": "code",
   "execution_count": 147,
   "metadata": {},
   "outputs": [
    {
     "data": {
      "text/plain": [
       "[2, 4, 6]"
      ]
     },
     "execution_count": 147,
     "metadata": {},
     "output_type": "execute_result"
    }
   ],
   "source": [
    "# Filter\n",
    "numbers = [1,2,3,4,5,6,7]\n",
    "\n",
    "even_numbers = list(filter(lambda number:number % 2 == 0, numbers))\n",
    "\n",
    "even_numbers"
   ]
  },
  {
   "cell_type": "code",
   "execution_count": 154,
   "metadata": {},
   "outputs": [
    {
     "name": "stdout",
     "output_type": "stream",
     "text": [
      "[2, 4, 6]\n"
     ]
    }
   ],
   "source": [
    "numbers = [1,2,3,4,5,6,7]\n",
    "even_numbers = []\n",
    "\n",
    "def even_numbers_finder(numbers):\n",
    "    for i in numbers:\n",
    "        if i % 2 == 0:\n",
    "            even_numbers.append(i)\n",
    "    print(even_numbers)\n",
    "\n",
    "even_numbers_finder(numbers)"
   ]
  },
  {
   "cell_type": "markdown",
   "metadata": {},
   "source": [
    "14. Write a function that takes a subject score and returns the corresponding grade..\n",
    "13.  Write a function that takes two lists and returns a list of items that are present in both.\n",
    "* b) Below 50% = F\n",
    "* c) 50 up to but not including 65 = D\n",
    "* d) 65 up to but not including 75 = C\n",
    "* e) 75 up to but not including 85 = B\n",
    "* f) 85 and over = A\n"
   ]
  },
  {
   "cell_type": "markdown",
   "metadata": {},
   "source": [
    "* a) Write a function that takes two lists and returns a list of items that are present in both."
   ]
  },
  {
   "cell_type": "code",
   "execution_count": 149,
   "metadata": {},
   "outputs": [
    {
     "name": "stdout",
     "output_type": "stream",
     "text": [
      "['girl', 'doctor']\n"
     ]
    }
   ],
   "source": [
    "list_1 = ['boy', 'girl', 'teacher', 'doctor']\n",
    "list_2 = ['soccer', 'doctor', 'girl', 'field']\n",
    "new_list = []\n",
    "\n",
    "def new_list_function(list_1, list_2):\n",
    "    for i in list_1:\n",
    "        for x in list_2:\n",
    "            if i == x:\n",
    "                new_list.append(i)\n",
    "    print(new_list)\n",
    "\n",
    "new_list_function(list_1, list_2)"
   ]
  },
  {
   "cell_type": "markdown",
   "metadata": {},
   "source": [
    "14. Write a function that takes a subject score and returns the corresponding grade..\n",
    "* a) Below 50% = E\n",
    "* b) 50 up to but not including 65 = D\n",
    "* c) 65 up to but not including 75 = C\n",
    "* d) 75 up to but not including 85 = B\n",
    "* e) 85 and over = A"
   ]
  },
  {
   "cell_type": "code",
   "execution_count": 150,
   "metadata": {},
   "outputs": [
    {
     "data": {
      "text/plain": [
       "'E'"
      ]
     },
     "execution_count": 150,
     "metadata": {},
     "output_type": "execute_result"
    }
   ],
   "source": [
    "marks = 49\n",
    "\n",
    "def grader(marks):\n",
    "    if marks < 50:\n",
    "        grade = 'E'\n",
    "    elif 65 > marks >= 50:\n",
    "        grade = 'D'\n",
    "    elif 75 > marks >= 65:\n",
    "        grade = 'C'\n",
    "    elif 85 > marks >= 75:\n",
    "        grade = 'B'\n",
    "    else:\n",
    "        grade = 'A'\n",
    "    return grade\n",
    "\n",
    "grader(marks)"
   ]
  }
 ],
 "metadata": {
  "kernelspec": {
   "display_name": "base",
   "language": "python",
   "name": "python3"
  },
  "language_info": {
   "codemirror_mode": {
    "name": "ipython",
    "version": 3
   },
   "file_extension": ".py",
   "mimetype": "text/x-python",
   "name": "python",
   "nbconvert_exporter": "python",
   "pygments_lexer": "ipython3",
   "version": "3.12.4"
  }
 },
 "nbformat": 4,
 "nbformat_minor": 2
}
